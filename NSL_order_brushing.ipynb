{
 "cells": [
  {
   "cell_type": "code",
   "execution_count": 2,
   "metadata": {},
   "outputs": [],
   "source": [
    "import pandas as pd\n",
    "import os\n",
    "from tqdm.auto import tqdm"
   ]
  },
  {
   "cell_type": "raw",
   "metadata": {},
   "source": [
    "Tqdm là một tiện ích của python, từ này có nghĩa là “tiến trình” trong tiếng Ả Rập (taqadum, تقدّم) . Trong python, nó giúp hiển thị các vòng lặp dưới dạng một giao diện tiến độ một cách thông minh – chỉ cần bọc bất kỳ vòng lặp nào bằng tqdm và bạn không phải lo cài đặt hiển thị tiến trình cho nó nữa."
   ]
  },
  {
   "cell_type": "code",
   "execution_count": 3,
   "metadata": {},
   "outputs": [
    {
     "data": {
      "text/html": [
       "<div>\n",
       "<style scoped>\n",
       "    .dataframe tbody tr th:only-of-type {\n",
       "        vertical-align: middle;\n",
       "    }\n",
       "\n",
       "    .dataframe tbody tr th {\n",
       "        vertical-align: top;\n",
       "    }\n",
       "\n",
       "    .dataframe thead th {\n",
       "        text-align: right;\n",
       "    }\n",
       "</style>\n",
       "<table border=\"1\" class=\"dataframe\">\n",
       "  <thead>\n",
       "    <tr style=\"text-align: right;\">\n",
       "      <th></th>\n",
       "      <th>shopid</th>\n",
       "      <th>userid</th>\n",
       "    </tr>\n",
       "    <tr>\n",
       "      <th>event_time</th>\n",
       "      <th></th>\n",
       "      <th></th>\n",
       "    </tr>\n",
       "  </thead>\n",
       "  <tbody>\n",
       "    <tr>\n",
       "      <th>2019-12-27 00:00:00</th>\n",
       "      <td>6042309</td>\n",
       "      <td>97707522</td>\n",
       "    </tr>\n",
       "    <tr>\n",
       "      <th>2019-12-27 00:00:00</th>\n",
       "      <td>104804492</td>\n",
       "      <td>97707522</td>\n",
       "    </tr>\n",
       "    <tr>\n",
       "      <th>2019-12-27 00:00:00</th>\n",
       "      <td>8715449</td>\n",
       "      <td>97707522</td>\n",
       "    </tr>\n",
       "    <tr>\n",
       "      <th>2019-12-27 00:00:02</th>\n",
       "      <td>190969466</td>\n",
       "      <td>170182475</td>\n",
       "    </tr>\n",
       "    <tr>\n",
       "      <th>2019-12-27 00:00:05</th>\n",
       "      <td>2859407</td>\n",
       "      <td>12532131</td>\n",
       "    </tr>\n",
       "  </tbody>\n",
       "</table>\n",
       "</div>"
      ],
      "text/plain": [
       "                        shopid     userid\n",
       "event_time                               \n",
       "2019-12-27 00:00:00    6042309   97707522\n",
       "2019-12-27 00:00:00  104804492   97707522\n",
       "2019-12-27 00:00:00    8715449   97707522\n",
       "2019-12-27 00:00:02  190969466  170182475\n",
       "2019-12-27 00:00:05    2859407   12532131"
      ]
     },
     "execution_count": 3,
     "metadata": {},
     "output_type": "execute_result"
    }
   ],
   "source": [
    "os.chdir('C:/Users/sontr/OneDrive/Desktop/Scl')\n",
    "\n",
    "df = pd.read_csv('order_brush_order.csv').drop(columns='orderid').sort_values('event_time').set_index('event_time')\n",
    "df.index = pd.to_datetime(df.index)\n",
    "\n",
    "df.head()"
   ]
  },
  {
   "cell_type": "code",
   "execution_count": 6,
   "metadata": {},
   "outputs": [],
   "source": [
    "d = {}\n",
    "for shopid in df.shopid.unique():\n",
    "    d[shopid] = set()"
   ]
  },
  {
   "cell_type": "code",
   "execution_count": 7,
   "metadata": {},
   "outputs": [
    {
     "data": {
      "application/vnd.jupyter.widget-view+json": {
       "model_id": "ef0efeee80874fa29a4c542c569f3600",
       "version_major": 2,
       "version_minor": 0
      },
      "text/plain": [
       "HBox(children=(IntProgress(value=0, max=18770), HTML(value='')))"
      ]
     },
     "metadata": {},
     "output_type": "display_data"
    },
    {
     "name": "stdout",
     "output_type": "stream",
     "text": [
      "\n"
     ]
    }
   ],
   "source": [
    "for shopid in tqdm(df.shopid.unique()):\n",
    "    shop_unq = df[df.shopid == shopid]\n",
    "    ex = None\n",
    "    for i, row in shop_unq.iterrows():\n",
    "        start = i\n",
    "        if start == ex:\n",
    "            continue\n",
    "            \n",
    "        if ex != None:\n",
    "            gap = start - ex\n",
    "        \n",
    "        ex = start\n",
    "        end = start + pd.DateOffset(hours=1)\n",
    "        no_buy = shop_unq[(shop_unq.index >= start) & (shop_unq.index <= end)]\n",
    "        \n",
    "        while len(no_buy) >= 3:\n",
    "            con = len(no_buy) / no_buy['userid'].nunique()\n",
    "            if con >= 3:\n",
    "                users = no_buy.userid.value_counts()\n",
    "                d[shopid].update(list(users[users == users.max()].index))\n",
    "            if end - no_buy.index.max() < gap:\n",
    "                no_buy = no_buy.iloc[:-1]\n",
    "            else:\n",
    "                break"
   ]
  },
  {
   "cell_type": "code",
   "execution_count": 8,
   "metadata": {},
   "outputs": [],
   "source": [
    "out = {'shopid': [], 'userid': []}\n",
    "for shopid in d:\n",
    "    out['shopid'] += [shopid]\n",
    "    if d[shopid] == set():\n",
    "        out['userid'] += ['0']\n",
    "    else:\n",
    "        out['userid'] += ['&'.join(map(str, sorted(list(d[shopid]))))]"
   ]
  },
  {
   "cell_type": "code",
   "execution_count": 10,
   "metadata": {},
   "outputs": [],
   "source": [
    "result = pd.DataFrame(out)\n",
    "result.to_csv('solution.csv', index=False)"
   ]
  }
 ],
 "metadata": {
  "kernelspec": {
   "display_name": "Python 3",
   "language": "python",
   "name": "python3"
  },
  "language_info": {
   "codemirror_mode": {
    "name": "ipython",
    "version": 3
   },
   "file_extension": ".py",
   "mimetype": "text/x-python",
   "name": "python",
   "nbconvert_exporter": "python",
   "pygments_lexer": "ipython3",
   "version": "3.7.3"
  }
 },
 "nbformat": 4,
 "nbformat_minor": 4
}
